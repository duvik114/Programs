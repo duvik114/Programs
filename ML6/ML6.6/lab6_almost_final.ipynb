{
 "cells": [
  {
   "cell_type": "code",
   "execution_count": 21,
   "metadata": {},
   "outputs": [],
   "source": [
    "import re\n",
    "import string\n",
    "import numpy as np\n",
    "import pandas as pd\n",
    "\n",
    "from nltk.corpus import stopwords\n",
    "from sklearn.feature_selection import RFE\n",
    "from sklearn.metrics import accuracy_score\n",
    "from sklearn.neighbors import KNeighborsClassifier\n",
    "from sklearn.ensemble import RandomForestClassifier\n",
    "from sklearn.linear_model import LogisticRegression\n",
    "from sklearn.model_selection import train_test_split\n",
    "from sklearn.inspection import permutation_importance\n",
    "from sklearn.feature_extraction.text import TfidfVectorizer\n",
    "from skfeature.function.similarity_based import fisher_score\n",
    "from sklearn.feature_selection import chi2, SelectKBest, SequentialFeatureSelector, SelectFromModel"
   ]
  },
  {
   "cell_type": "code",
   "execution_count": 22,
   "metadata": {},
   "outputs": [
    {
     "data": {
      "text/html": [
       "<div>\n",
       "<style scoped>\n",
       "    .dataframe tbody tr th:only-of-type {\n",
       "        vertical-align: middle;\n",
       "    }\n",
       "\n",
       "    .dataframe tbody tr th {\n",
       "        vertical-align: top;\n",
       "    }\n",
       "\n",
       "    .dataframe thead th {\n",
       "        text-align: right;\n",
       "    }\n",
       "</style>\n",
       "<table border=\"1\" class=\"dataframe\">\n",
       "  <thead>\n",
       "    <tr style=\"text-align: right;\">\n",
       "      <th></th>\n",
       "      <th>class</th>\n",
       "      <th>text</th>\n",
       "    </tr>\n",
       "  </thead>\n",
       "  <tbody>\n",
       "    <tr>\n",
       "      <th>0</th>\n",
       "      <td>ham</td>\n",
       "      <td>Go until jurong point, crazy.. Available only ...</td>\n",
       "    </tr>\n",
       "    <tr>\n",
       "      <th>1</th>\n",
       "      <td>ham</td>\n",
       "      <td>Ok lar... Joking wif u oni...</td>\n",
       "    </tr>\n",
       "    <tr>\n",
       "      <th>2</th>\n",
       "      <td>spam</td>\n",
       "      <td>Free entry in 2 a wkly comp to win FA Cup fina...</td>\n",
       "    </tr>\n",
       "    <tr>\n",
       "      <th>3</th>\n",
       "      <td>ham</td>\n",
       "      <td>U dun say so early hor... U c already then say...</td>\n",
       "    </tr>\n",
       "    <tr>\n",
       "      <th>4</th>\n",
       "      <td>ham</td>\n",
       "      <td>Nah I don't think he goes to usf, he lives aro...</td>\n",
       "    </tr>\n",
       "    <tr>\n",
       "      <th>5</th>\n",
       "      <td>spam</td>\n",
       "      <td>FreeMsg Hey there darling it's been 3 week's n...</td>\n",
       "    </tr>\n",
       "    <tr>\n",
       "      <th>6</th>\n",
       "      <td>ham</td>\n",
       "      <td>Even my brother is not like to speak with me. ...</td>\n",
       "    </tr>\n",
       "    <tr>\n",
       "      <th>7</th>\n",
       "      <td>ham</td>\n",
       "      <td>As per your request 'Melle Melle (Oru Minnamin...</td>\n",
       "    </tr>\n",
       "    <tr>\n",
       "      <th>8</th>\n",
       "      <td>spam</td>\n",
       "      <td>WINNER!! As a valued network customer you have...</td>\n",
       "    </tr>\n",
       "    <tr>\n",
       "      <th>9</th>\n",
       "      <td>spam</td>\n",
       "      <td>Had your mobile 11 months or more? U R entitle...</td>\n",
       "    </tr>\n",
       "  </tbody>\n",
       "</table>\n",
       "</div>"
      ],
      "text/plain": [
       "  class                                               text\n",
       "0   ham  Go until jurong point, crazy.. Available only ...\n",
       "1   ham                      Ok lar... Joking wif u oni...\n",
       "2  spam  Free entry in 2 a wkly comp to win FA Cup fina...\n",
       "3   ham  U dun say so early hor... U c already then say...\n",
       "4   ham  Nah I don't think he goes to usf, he lives aro...\n",
       "5  spam  FreeMsg Hey there darling it's been 3 week's n...\n",
       "6   ham  Even my brother is not like to speak with me. ...\n",
       "7   ham  As per your request 'Melle Melle (Oru Minnamin...\n",
       "8  spam  WINNER!! As a valued network customer you have...\n",
       "9  spam  Had your mobile 11 months or more? U R entitle..."
      ]
     },
     "execution_count": 22,
     "metadata": {},
     "output_type": "execute_result"
    }
   ],
   "source": [
    "df = pd.read_csv('data/SMS.tsv', sep='\\t')\n",
    "df.head(10)"
   ]
  },
  {
   "cell_type": "code",
   "execution_count": 23,
   "metadata": {},
   "outputs": [],
   "source": [
    "def ref_str(s):\n",
    "    s = re.sub('\\d+', '', s)\n",
    "    s = s.translate(str.maketrans('', '', string.punctuation))\n",
    "    s = re.sub('\\s+', ' ', s)\n",
    "    return s\n",
    "\n",
    "df['class'] = pd.factorize(df['class'])[0]\n",
    "text = []\n",
    "for s in df['text']:\n",
    "    text.append(ref_str(s))\n",
    "    \n",
    "n = 400\n",
    "vectorizer = TfidfVectorizer(max_features=n, stop_words=stopwords.words('english'))\n",
    "X = pd.DataFrame(vectorizer.fit_transform(text).toarray(), columns=vectorizer.get_feature_names_out())\n",
    "X_train, X_test, y_train, y_test = train_test_split(X, df['class'])"
   ]
  },
  {
   "cell_type": "markdown",
   "metadata": {},
   "source": [
    "Встроенный"
   ]
  },
  {
   "cell_type": "code",
   "execution_count": 24,
   "metadata": {},
   "outputs": [
    {
     "data": {
      "text/html": [
       "<style>#sk-container-id-2 {color: black;background-color: white;}#sk-container-id-2 pre{padding: 0;}#sk-container-id-2 div.sk-toggleable {background-color: white;}#sk-container-id-2 label.sk-toggleable__label {cursor: pointer;display: block;width: 100%;margin-bottom: 0;padding: 0.3em;box-sizing: border-box;text-align: center;}#sk-container-id-2 label.sk-toggleable__label-arrow:before {content: \"▸\";float: left;margin-right: 0.25em;color: #696969;}#sk-container-id-2 label.sk-toggleable__label-arrow:hover:before {color: black;}#sk-container-id-2 div.sk-estimator:hover label.sk-toggleable__label-arrow:before {color: black;}#sk-container-id-2 div.sk-toggleable__content {max-height: 0;max-width: 0;overflow: hidden;text-align: left;background-color: #f0f8ff;}#sk-container-id-2 div.sk-toggleable__content pre {margin: 0.2em;color: black;border-radius: 0.25em;background-color: #f0f8ff;}#sk-container-id-2 input.sk-toggleable__control:checked~div.sk-toggleable__content {max-height: 200px;max-width: 100%;overflow: auto;}#sk-container-id-2 input.sk-toggleable__control:checked~label.sk-toggleable__label-arrow:before {content: \"▾\";}#sk-container-id-2 div.sk-estimator input.sk-toggleable__control:checked~label.sk-toggleable__label {background-color: #d4ebff;}#sk-container-id-2 div.sk-label input.sk-toggleable__control:checked~label.sk-toggleable__label {background-color: #d4ebff;}#sk-container-id-2 input.sk-hidden--visually {border: 0;clip: rect(1px 1px 1px 1px);clip: rect(1px, 1px, 1px, 1px);height: 1px;margin: -1px;overflow: hidden;padding: 0;position: absolute;width: 1px;}#sk-container-id-2 div.sk-estimator {font-family: monospace;background-color: #f0f8ff;border: 1px dotted black;border-radius: 0.25em;box-sizing: border-box;margin-bottom: 0.5em;}#sk-container-id-2 div.sk-estimator:hover {background-color: #d4ebff;}#sk-container-id-2 div.sk-parallel-item::after {content: \"\";width: 100%;border-bottom: 1px solid gray;flex-grow: 1;}#sk-container-id-2 div.sk-label:hover label.sk-toggleable__label {background-color: #d4ebff;}#sk-container-id-2 div.sk-serial::before {content: \"\";position: absolute;border-left: 1px solid gray;box-sizing: border-box;top: 0;bottom: 0;left: 50%;z-index: 0;}#sk-container-id-2 div.sk-serial {display: flex;flex-direction: column;align-items: center;background-color: white;padding-right: 0.2em;padding-left: 0.2em;position: relative;}#sk-container-id-2 div.sk-item {position: relative;z-index: 1;}#sk-container-id-2 div.sk-parallel {display: flex;align-items: stretch;justify-content: center;background-color: white;position: relative;}#sk-container-id-2 div.sk-item::before, #sk-container-id-2 div.sk-parallel-item::before {content: \"\";position: absolute;border-left: 1px solid gray;box-sizing: border-box;top: 0;bottom: 0;left: 50%;z-index: -1;}#sk-container-id-2 div.sk-parallel-item {display: flex;flex-direction: column;z-index: 1;position: relative;background-color: white;}#sk-container-id-2 div.sk-parallel-item:first-child::after {align-self: flex-end;width: 50%;}#sk-container-id-2 div.sk-parallel-item:last-child::after {align-self: flex-start;width: 50%;}#sk-container-id-2 div.sk-parallel-item:only-child::after {width: 0;}#sk-container-id-2 div.sk-dashed-wrapped {border: 1px dashed gray;margin: 0 0.4em 0.5em 0.4em;box-sizing: border-box;padding-bottom: 0.4em;background-color: white;}#sk-container-id-2 div.sk-label label {font-family: monospace;font-weight: bold;display: inline-block;line-height: 1.2em;}#sk-container-id-2 div.sk-label-container {text-align: center;}#sk-container-id-2 div.sk-container {/* jupyter's `normalize.less` sets `[hidden] { display: none; }` but bootstrap.min.css set `[hidden] { display: none !important; }` so we also need the `!important` here to be able to override the default hidden behavior on the sphinx rendered scikit-learn.org. See: https://github.com/scikit-learn/scikit-learn/issues/21755 */display: inline-block !important;position: relative;}#sk-container-id-2 div.sk-text-repr-fallback {display: none;}</style><div id=\"sk-container-id-2\" class=\"sk-top-container\"><div class=\"sk-text-repr-fallback\"><pre>RandomForestClassifier()</pre><b>In a Jupyter environment, please rerun this cell to show the HTML representation or trust the notebook. <br />On GitHub, the HTML representation is unable to render, please try loading this page with nbviewer.org.</b></div><div class=\"sk-container\" hidden><div class=\"sk-item\"><div class=\"sk-estimator sk-toggleable\"><input class=\"sk-toggleable__control sk-hidden--visually\" id=\"sk-estimator-id-2\" type=\"checkbox\" checked><label for=\"sk-estimator-id-2\" class=\"sk-toggleable__label sk-toggleable__label-arrow\">RandomForestClassifier</label><div class=\"sk-toggleable__content\"><pre>RandomForestClassifier()</pre></div></div></div></div></div>"
      ],
      "text/plain": [
       "RandomForestClassifier()"
      ]
     },
     "execution_count": 24,
     "metadata": {},
     "output_type": "execute_result"
    }
   ],
   "source": [
    "rf = RandomForestClassifier()\n",
    "rf.fit(X_train, y_train)"
   ]
  },
  {
   "cell_type": "code",
   "execution_count": 25,
   "metadata": {},
   "outputs": [
    {
     "data": {
      "text/plain": [
       "call      8.153658e-02\n",
       "txt       5.286733e-02\n",
       "free      4.208282e-02\n",
       "claim     4.147199e-02\n",
       "mobile    3.041530e-02\n",
       "              ...     \n",
       "fuck      1.259345e-06\n",
       "den       7.713588e-07\n",
       "pain      1.837305e-07\n",
       "making    1.031264e-07\n",
       "anyway    8.341038e-08\n",
       "Length: 400, dtype: float64"
      ]
     },
     "execution_count": 25,
     "metadata": {},
     "output_type": "execute_result"
    }
   ],
   "source": [
    "res_rfc = pd.Series(rf.feature_importances_, X_train.columns).sort_values(ascending=False)\n",
    "res_rfc"
   ]
  },
  {
   "cell_type": "markdown",
   "metadata": {},
   "source": [
    "обёртка"
   ]
  },
  {
   "cell_type": "code",
   "execution_count": 26,
   "metadata": {
    "scrolled": false
   },
   "outputs": [
    {
     "name": "stdout",
     "output_type": "stream",
     "text": [
      "Step  1 , added  call\n",
      "Step  2 , added  txt\n",
      "Step  3 , added  stop\n",
      "Step  4 , added  claim\n",
      "Step  5 , added  mobile\n",
      "Step  6 , added  free\n",
      "Step  7 , added  text\n",
      "Step  8 , added  reply\n",
      "Step  9 , added  service\n",
      "Step  10 , added  ur\n",
      "Step  11 , added  win\n",
      "Step  12 , added  new\n",
      "Step  13 , added  chat\n",
      "Step  14 , added  play\n",
      "Step  15 , added  nokia\n",
      "Step  16 , added  latest\n",
      "Step  17 , added  orange\n",
      "Step  18 , added  customer\n",
      "Step  19 , added  tone\n",
      "Step  20 , added  pobox\n",
      "Step  21 , added  contact\n",
      "Step  22 , added  per\n",
      "Step  23 , added  ringtone\n",
      "Step  24 , added  prize\n",
      "Step  25 , added  guaranteed\n",
      "Step  26 , added  code\n",
      "Step  27 , added  mob\n",
      "Step  28 , added  box\n",
      "Step  29 , added  po\n",
      "Step  30 , added  cash\n"
     ]
    }
   ],
   "source": [
    "lr = LogisticRegression()\n",
    "\n",
    "nof = 30\n",
    "res_wrap = []\n",
    "X_train_seq = X_train\n",
    "while len(res_wrap) < nof:\n",
    "    lr.fit(X_train_seq, y_train)\n",
    "    model_fi = permutation_importance(lr, X_train_seq, y_train)\n",
    "    max_value = max(model_fi['importances_mean'])\n",
    "    max_index = np.argmax(model_fi['importances_mean'])\n",
    "    print('Step ', (len(res_wrap) + 1), ', added ', X_train_seq.columns[max_index])\n",
    "    res_wrap.append(X_train_seq.columns[max_index])\n",
    "    X_train_seq = X_train_seq.drop(X_train_seq.columns[max_index], axis=1)"
   ]
  },
  {
   "cell_type": "markdown",
   "metadata": {},
   "source": [
    "фильтр"
   ]
  },
  {
   "cell_type": "code",
   "execution_count": 27,
   "metadata": {},
   "outputs": [
    {
     "data": {
      "text/plain": [
       "class     1.000000\n",
       "todays    0.043692\n",
       "update    0.041912\n",
       "early     0.040142\n",
       "came      0.039478\n",
       "            ...   \n",
       "need     -0.013145\n",
       "send     -0.013920\n",
       "good     -0.015184\n",
       "free     -0.015370\n",
       "ur       -0.016886\n",
       "Name: class, Length: 400, dtype: float64"
      ]
     },
     "execution_count": 27,
     "metadata": {},
     "output_type": "execute_result"
    }
   ],
   "source": [
    "X_train_filter = X_train\n",
    "corr = X_train_filter.corr(method='pearson')['class']\n",
    "res_filt = corr.sort_values(ascending=False)\n",
    "res_filt"
   ]
  },
  {
   "cell_type": "code",
   "execution_count": 28,
   "metadata": {},
   "outputs": [
    {
     "name": "stdout",
     "output_type": "stream",
     "text": [
      "Встроенный:  ['call' 'txt' 'free' 'claim' 'mobile' 'text' 'reply' 'stop' 'win' 'prize'\n",
      " 'service' 'contact' 'nokia' 'box' 'customer' 'ringtone' 'chat' 'urgent'\n",
      " 'tone' 'new' 'cash' 'guaranteed' 'orange' 'ur' 'pobox' 'message' 'tones'\n",
      " 'send' 'latest' 'cost']\n",
      "Oбертка:  ['call' 'txt' 'stop' 'claim' 'mobile' 'free' 'text' 'reply' 'service' 'ur'\n",
      " 'win' 'new' 'chat' 'play' 'nokia' 'latest' 'orange' 'customer' 'tone'\n",
      " 'pobox' 'contact' 'per' 'ringtone' 'prize' 'guaranteed' 'code' 'mob'\n",
      " 'box' 'po' 'cash']\n",
      "Фильтр:  ['class' 'todays' 'update' 'early' 'came' 'go' 'able' 'coming' 'st' 'saw'\n",
      " 'join' 'theres' 'run' 'yeah' 'doesnt' 'later' 'ltgt' 'plz' 'minutes'\n",
      " 'day' 'sleep' 'holiday' 'whats' 'yo' 'hi' 'might' 'went' 'much' 'name'\n",
      " 'got']\n"
     ]
    }
   ],
   "source": [
    "print('Встроенный: ', np.array(res_rfc.index[:30]))\n",
    "print('Oбертка: ', np.array(res_wrap))\n",
    "print('Фильтр: ', np.array(res_filt.index[:30]))"
   ]
  },
  {
   "cell_type": "markdown",
   "metadata": {},
   "source": [
    "Фильтр (фишер)"
   ]
  },
  {
   "cell_type": "code",
   "execution_count": 29,
   "metadata": {},
   "outputs": [
    {
     "data": {
      "text/plain": [
       "Index(['line', 'kiss', 'may', 'latest', 'use', 'wanna', 'true', 'wk', 'god',\n",
       "       'min', 'liao', 'entry', 'later', 'us', 'st', 'orange', 'ill', 'coming',\n",
       "       'stop', 'da', 'send', 'much', 'around', 'sleep', 'sexy', 'sir', 'id',\n",
       "       'shit', 'haf', 'best'],\n",
       "      dtype='object')"
      ]
     },
     "execution_count": 29,
     "metadata": {},
     "output_type": "execute_result"
    }
   ],
   "source": [
    "X_train_fish = X_train\n",
    "ranks = fisher_score.fisher_score(X_train_fish.to_numpy(), y_train.to_numpy())\n",
    "feature_importances = pd.Series(ranks, X_train_fish.columns)\n",
    "res_fish = feature_importances.sort_values(ascending=True)[:30].index\n",
    "res_fish"
   ]
  },
  {
   "cell_type": "markdown",
   "metadata": {},
   "source": [
    "Обертка (рекурсивное исключение)"
   ]
  },
  {
   "cell_type": "code",
   "execution_count": 46,
   "metadata": {},
   "outputs": [],
   "source": [
    "X_train_rec = X_train\n",
    "# lr = LogisticRegression(class_weight = 'balanced', solver = 'lbfgs', random_state=42, n_jobs=-1, max_iter=50)\n",
    "lr = LogisticRegression(class_weight = 'balanced')\n",
    "rfe = RFE(lr, n_features_to_select=30)\n",
    "rfe = rfe.fit(X_train_rec, y_train)"
   ]
  },
  {
   "cell_type": "code",
   "execution_count": 47,
   "metadata": {},
   "outputs": [
    {
     "data": {
      "text/plain": [
       "Index(['apply', 'awarded', 'box', 'call', 'cash', 'chat', 'claim', 'contact',\n",
       "       'free', 'ill', 'ltgt', 'mobile', 'new', 'orange', 'pobox', 'prize',\n",
       "       'receive', 'reply', 'ringtone', 'send', 'service', 'sexy', 'stop',\n",
       "       'text', 'tone', 'tones', 'txt', 'urgent', 'video', 'win'],\n",
       "      dtype='object')"
      ]
     },
     "execution_count": 47,
     "metadata": {},
     "output_type": "execute_result"
    }
   ],
   "source": [
    "res_rec = X_train_rec.iloc[ : ,rfe.get_support()]\n",
    "res_rec.columns"
   ]
  },
  {
   "cell_type": "markdown",
   "metadata": {},
   "source": [
    "Встроенный (регуляризация)"
   ]
  },
  {
   "cell_type": "code",
   "execution_count": 48,
   "metadata": {},
   "outputs": [
    {
     "data": {
      "text/plain": [
       "Index(['account', 'apply', 'ask', 'attempt', 'award', 'awarded', 'back', 'box',\n",
       "       'call', 'calls', 'camera', 'cant', 'cash', 'chance', 'chat', 'claim',\n",
       "       'code', 'collection', 'come', 'contact', 'cost', 'customer', 'da',\n",
       "       'draw', 'end', 'enjoy', 'find', 'free', 'friends', 'fun', 'gift',\n",
       "       'happy', 'help', 'hey', 'holiday', 'home', 'ill', 'im', 'important',\n",
       "       'landline', 'later', 'latest', 'line', 'live', 'looking', 'lor', 'ltgt',\n",
       "       'message', 'mob', 'mobile', 'money', 'msg', 'name', 'network', 'new',\n",
       "       'next', 'nokia', 'ok', 'orange', 'part', 'per', 'phone', 'play',\n",
       "       'please', 'pls', 'pm', 'pmin', 'po', 'pobox', 'ppm', 'prize', 'real',\n",
       "       'receive', 'reply', 'ringtone', 'send', 'service', 'sexy', 'sir', 'sms',\n",
       "       'special', 'st', 'stop', 'tc', 'text', 'tone', 'tones', 'txt', 'ur',\n",
       "       'urgent', 'use', 'video', 'waiting', 'wanna', 'weekly', 'win', 'word',\n",
       "       'xmas'],\n",
       "      dtype='object')"
      ]
     },
     "execution_count": 48,
     "metadata": {},
     "output_type": "execute_result"
    }
   ],
   "source": [
    "X_train_emb = X_train\n",
    "select = SelectFromModel(LogisticRegression(penalty='l1',solver='liblinear', random_state=9))\n",
    "select.fit(X_train_emb, y_train)\n",
    "res_emb = X_train_emb.iloc[ : , select.get_support()]\n",
    "res_emb.columns"
   ]
  },
  {
   "cell_type": "code",
   "execution_count": 49,
   "metadata": {},
   "outputs": [
    {
     "name": "stdout",
     "output_type": "stream",
     "text": [
      "Мои: \n",
      "['another', 'anyway', 'boy', 'dad', 'den', 'dinner', 'dis', 'eat', 'face', 'fine', 'fuck', 'goes', 'haha', 'lei', 'lunch', 'making', 'maybe', 'might', 'office', 'pain', 'remember', 'room', 'shes', 'shit', 'thank', 'thanx', 'though', 'wake', 'watching', 'went']\n",
      "['box', 'call', 'cash', 'chat', 'claim', 'code', 'contact', 'customer', 'free', 'guaranteed', 'latest', 'mob', 'mobile', 'new', 'nokia', 'orange', 'per', 'play', 'po', 'pobox', 'prize', 'reply', 'ringtone', 'service', 'stop', 'text', 'tone', 'txt', 'ur', 'win']\n",
      "['able', 'came', 'class', 'coming', 'day', 'doesnt', 'early', 'go', 'got', 'hi', 'holiday', 'join', 'later', 'ltgt', 'might', 'minutes', 'much', 'name', 'plz', 'run', 'saw', 'sleep', 'st', 'theres', 'todays', 'update', 'went', 'whats', 'yeah', 'yo']\n",
      "Библиотечные: \n",
      "['around', 'best', 'coming', 'da', 'entry', 'god', 'haf', 'id', 'ill', 'kiss', 'later', 'latest', 'liao', 'line', 'may', 'min', 'much', 'orange', 'send', 'sexy', 'shit', 'sir', 'sleep', 'st', 'stop', 'true', 'us', 'use', 'wanna', 'wk']\n",
      "['apply', 'awarded', 'box', 'call', 'cash', 'chat', 'claim', 'contact', 'free', 'ill', 'ltgt', 'mobile', 'new', 'orange', 'pobox', 'prize', 'receive', 'reply', 'ringtone', 'send', 'service', 'sexy', 'stop', 'text', 'tone', 'tones', 'txt', 'urgent', 'video', 'win']\n",
      "['account', 'apply', 'ask', 'attempt', 'award', 'awarded', 'back', 'box', 'call', 'calls', 'camera', 'cant', 'cash', 'chance', 'chat', 'claim', 'code', 'collection', 'come', 'contact', 'cost', 'customer', 'da', 'draw', 'end', 'enjoy', 'find', 'free', 'friends', 'fun']\n"
     ]
    }
   ],
   "source": [
    "print('Мои: ')\n",
    "print(sorted(np.array(res_rfc.index[-30:])))\n",
    "print(sorted(np.array(res_wrap)))\n",
    "print(sorted(np.array(res_filt.index[:30])))\n",
    "print('Библиотечные: ')\n",
    "print(sorted(np.array(res_fish)))\n",
    "print(sorted(np.array(res_rec.columns)))\n",
    "print(sorted(np.array(res_emb.columns[:30])))"
   ]
  },
  {
   "cell_type": "code",
   "execution_count": 50,
   "metadata": {},
   "outputs": [],
   "source": [
    "classifiers = {\n",
    "    'LogisticRegression': LogisticRegression(), \n",
    "    'Knn': KNeighborsClassifier(n_neighbors=40), \n",
    "    'RandomForestClassifier': RandomForestClassifier()\n",
    "}\n",
    "\n",
    "X_train_in_emb = pd.DataFrame(X_train, columns = np.array(res_rfc.index[-30:]))\n",
    "X_train_wrap = pd.DataFrame(X_train, columns = np.array(res_wrap))\n",
    "X_train_filt = pd.DataFrame(X_train, columns = np.array(res_filt.index[-30:-1])[::-1])\n",
    "X_train_fish = pd.DataFrame(X_train, columns = np.array(res_fish))\n",
    "X_train_rec = pd.DataFrame(X_train, columns = np.array(res_rec.columns))\n",
    "X_train_res_emb = pd.DataFrame(X_train, columns = np.array(res_emb.columns))\n",
    "\n",
    "X_test_in_emb = pd.DataFrame(X_test, columns = np.array(res_rfc.index[-30:]))\n",
    "X_test_wrap = pd.DataFrame(X_test, columns = np.array(res_wrap))\n",
    "X_test_filt = pd.DataFrame(X_test, columns = np.array(res_filt.index[-30:-1])[::-1])\n",
    "X_test_fish = pd.DataFrame(X_test, columns = np.array(res_fish))\n",
    "X_test_rec = pd.DataFrame(X_test, columns = np.array(res_rec.columns))\n",
    "X_test_res_emb = pd.DataFrame(X_test, columns = np.array(res_emb.columns))"
   ]
  },
  {
   "cell_type": "code",
   "execution_count": 51,
   "metadata": {},
   "outputs": [],
   "source": [
    "def print_res(c_name, classifier):\n",
    "    print(c_name)\n",
    "    \n",
    "    classifier.fit(X_train, y_train)\n",
    "    y_pred = classifier.predict(X_test) \n",
    "    print('До выбора признаков: ', accuracy_score(y_test, y_pred))\n",
    "    \n",
    "    print('После выбора признаков')\n",
    "    \n",
    "    classifier.fit(X_train_in_emb, y_train)\n",
    "    y_pred = classifier.predict(X_test_in_emb) \n",
    "    print('Random Forest: ', accuracy_score(y_test, y_pred))\n",
    "    \n",
    "    classifier.fit(X_train_wrap, y_train)\n",
    "    y_pred = classifier.predict(X_test_wrap) \n",
    "    print('Wrap (sequential): ', accuracy_score(y_test, y_pred))\n",
    "    \n",
    "    classifier.fit(X_train_filt, y_train)\n",
    "    y_pred = classifier.predict(X_test_filt) \n",
    "    print('Correlation: ', accuracy_score(y_test, y_pred))\n",
    "    \n",
    "    classifier.fit(X_train_fish, y_train)\n",
    "    y_pred = classifier.predict(X_test_fish) \n",
    "    print('Фишер: ', accuracy_score(y_test, y_pred))\n",
    "    \n",
    "    classifier.fit(X_train_rec, y_train)\n",
    "    y_pred = classifier.predict(X_test_rec) \n",
    "    print('Рекурсивное исключение: ', accuracy_score(y_test, y_pred))\n",
    "    \n",
    "    classifier.fit(X_train_res_emb, y_train)\n",
    "    y_pred = classifier.predict(X_test_res_emb) \n",
    "    print('Регуляризация: ', accuracy_score(y_test, y_pred))\n",
    "    \n",
    "    print()\n",
    "    "
   ]
  },
  {
   "cell_type": "code",
   "execution_count": 52,
   "metadata": {},
   "outputs": [
    {
     "name": "stdout",
     "output_type": "stream",
     "text": [
      "LogisticRegression\n",
      "До выбора признаков:  0.9626704953338119\n",
      "После выбора признаков\n",
      "Random Forest:  0.8557071069633884\n",
      "Wrap (sequential):  0.927494615936827\n",
      "Correlation:  0.8987796123474515\n",
      "Фишер:  0.867910983488873\n",
      "Рекурсивное исключение:  0.9310839913854989\n",
      "Регуляризация:  0.9540559942569993\n",
      "\n",
      "Knn\n",
      "До выбора признаков:  0.8557071069633884\n",
      "После выбора признаков\n",
      "Random Forest:  0.8557071069633884\n",
      "Wrap (sequential):  0.9059583632447954\n",
      "Correlation:  0.9030868628858578\n",
      "Фишер:  0.8743718592964824\n",
      "Рекурсивное исключение:  0.9023689877961235\n",
      "Регуляризация:  0.8650394831299354\n",
      "\n",
      "RandomForestClassifier\n",
      "До выбора признаков:  0.9676956209619526\n",
      "После выбора признаков\n",
      "Random Forest:  0.8535534816941852\n",
      "Wrap (sequential):  0.949748743718593\n",
      "Correlation:  0.9152907394113424\n",
      "Фишер:  0.8851399856424982\n",
      "Рекурсивное исключение:  0.9526202440775305\n",
      "Регуляризация:  0.9619526202440776\n",
      "\n"
     ]
    }
   ],
   "source": [
    "for cn, cl in classifiers.items():\n",
    "    print_res(cn, cl)"
   ]
  },
  {
   "cell_type": "code",
   "execution_count": null,
   "metadata": {},
   "outputs": [],
   "source": []
  }
 ],
 "metadata": {
  "kernelspec": {
   "display_name": "Python 3 (ipykernel)",
   "language": "python",
   "name": "python3"
  },
  "language_info": {
   "codemirror_mode": {
    "name": "ipython",
    "version": 3
   },
   "file_extension": ".py",
   "mimetype": "text/x-python",
   "name": "python",
   "nbconvert_exporter": "python",
   "pygments_lexer": "ipython3",
   "version": "3.10.7"
  }
 },
 "nbformat": 4,
 "nbformat_minor": 1
}
