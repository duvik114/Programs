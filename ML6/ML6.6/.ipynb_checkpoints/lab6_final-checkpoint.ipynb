{
 "cells": [
  {
   "cell_type": "code",
   "execution_count": 75,
   "metadata": {},
   "outputs": [],
   "source": [
    "import re\n",
    "import string\n",
    "import numpy as np\n",
    "import pandas as pd\n",
    "\n",
    "from nltk.corpus import stopwords\n",
    "from sklearn.feature_selection import RFE\n",
    "from sklearn.metrics import accuracy_score\n",
    "from sklearn.neighbors import KNeighborsClassifier\n",
    "from sklearn.ensemble import RandomForestClassifier\n",
    "from sklearn.linear_model import LogisticRegression\n",
    "from sklearn.model_selection import train_test_split\n",
    "from sklearn.inspection import permutation_importance\n",
    "from sklearn.feature_extraction.text import TfidfVectorizer\n",
    "from skfeature.function.similarity_based import fisher_score\n",
    "from sklearn.feature_selection import chi2, SelectKBest, SequentialFeatureSelector, SelectFromModel"
   ]
  },
  {
   "cell_type": "code",
   "execution_count": 76,
   "metadata": {},
   "outputs": [
    {
     "data": {
      "text/html": [
       "<div>\n",
       "<style scoped>\n",
       "    .dataframe tbody tr th:only-of-type {\n",
       "        vertical-align: middle;\n",
       "    }\n",
       "\n",
       "    .dataframe tbody tr th {\n",
       "        vertical-align: top;\n",
       "    }\n",
       "\n",
       "    .dataframe thead th {\n",
       "        text-align: right;\n",
       "    }\n",
       "</style>\n",
       "<table border=\"1\" class=\"dataframe\">\n",
       "  <thead>\n",
       "    <tr style=\"text-align: right;\">\n",
       "      <th></th>\n",
       "      <th>class</th>\n",
       "      <th>text</th>\n",
       "    </tr>\n",
       "  </thead>\n",
       "  <tbody>\n",
       "    <tr>\n",
       "      <th>0</th>\n",
       "      <td>ham</td>\n",
       "      <td>Go until jurong point, crazy.. Available only ...</td>\n",
       "    </tr>\n",
       "    <tr>\n",
       "      <th>1</th>\n",
       "      <td>ham</td>\n",
       "      <td>Ok lar... Joking wif u oni...</td>\n",
       "    </tr>\n",
       "    <tr>\n",
       "      <th>2</th>\n",
       "      <td>spam</td>\n",
       "      <td>Free entry in 2 a wkly comp to win FA Cup fina...</td>\n",
       "    </tr>\n",
       "    <tr>\n",
       "      <th>3</th>\n",
       "      <td>ham</td>\n",
       "      <td>U dun say so early hor... U c already then say...</td>\n",
       "    </tr>\n",
       "    <tr>\n",
       "      <th>4</th>\n",
       "      <td>ham</td>\n",
       "      <td>Nah I don't think he goes to usf, he lives aro...</td>\n",
       "    </tr>\n",
       "    <tr>\n",
       "      <th>5</th>\n",
       "      <td>spam</td>\n",
       "      <td>FreeMsg Hey there darling it's been 3 week's n...</td>\n",
       "    </tr>\n",
       "    <tr>\n",
       "      <th>6</th>\n",
       "      <td>ham</td>\n",
       "      <td>Even my brother is not like to speak with me. ...</td>\n",
       "    </tr>\n",
       "    <tr>\n",
       "      <th>7</th>\n",
       "      <td>ham</td>\n",
       "      <td>As per your request 'Melle Melle (Oru Minnamin...</td>\n",
       "    </tr>\n",
       "    <tr>\n",
       "      <th>8</th>\n",
       "      <td>spam</td>\n",
       "      <td>WINNER!! As a valued network customer you have...</td>\n",
       "    </tr>\n",
       "    <tr>\n",
       "      <th>9</th>\n",
       "      <td>spam</td>\n",
       "      <td>Had your mobile 11 months or more? U R entitle...</td>\n",
       "    </tr>\n",
       "  </tbody>\n",
       "</table>\n",
       "</div>"
      ],
      "text/plain": [
       "  class                                               text\n",
       "0   ham  Go until jurong point, crazy.. Available only ...\n",
       "1   ham                      Ok lar... Joking wif u oni...\n",
       "2  spam  Free entry in 2 a wkly comp to win FA Cup fina...\n",
       "3   ham  U dun say so early hor... U c already then say...\n",
       "4   ham  Nah I don't think he goes to usf, he lives aro...\n",
       "5  spam  FreeMsg Hey there darling it's been 3 week's n...\n",
       "6   ham  Even my brother is not like to speak with me. ...\n",
       "7   ham  As per your request 'Melle Melle (Oru Minnamin...\n",
       "8  spam  WINNER!! As a valued network customer you have...\n",
       "9  spam  Had your mobile 11 months or more? U R entitle..."
      ]
     },
     "execution_count": 76,
     "metadata": {},
     "output_type": "execute_result"
    }
   ],
   "source": [
    "df = pd.read_csv('data/SMS.tsv', sep='\\t')\n",
    "df.head(10)"
   ]
  },
  {
   "cell_type": "code",
   "execution_count": 77,
   "metadata": {},
   "outputs": [],
   "source": [
    "def ref_str(s):\n",
    "    s = re.sub('\\d+', '', s)\n",
    "    s = s.translate(str.maketrans('', '', string.punctuation))\n",
    "    s = re.sub('\\s+', ' ', s)\n",
    "    return s\n",
    "\n",
    "df['class'] = pd.factorize(df['class'])[0]\n",
    "text = []\n",
    "for s in df['text']:\n",
    "    text.append(ref_str(s))\n",
    "    \n",
    "n = 1000\n",
    "vectorizer = TfidfVectorizer(max_features = n, stop_words=stopwords.words('english'))\n",
    "X = pd.DataFrame(vectorizer.fit_transform(text).toarray(), columns=vectorizer.get_feature_names_out())\n",
    "X_train, X_test, y_train, y_test = train_test_split(X, df['class'])\n",
    "# n = X.shape[1]"
   ]
  },
  {
   "cell_type": "markdown",
   "metadata": {},
   "source": [
    "Встроенный"
   ]
  },
  {
   "cell_type": "code",
   "execution_count": 78,
   "metadata": {},
   "outputs": [
    {
     "data": {
      "text/html": [
       "<style>#sk-container-id-5 {color: black;background-color: white;}#sk-container-id-5 pre{padding: 0;}#sk-container-id-5 div.sk-toggleable {background-color: white;}#sk-container-id-5 label.sk-toggleable__label {cursor: pointer;display: block;width: 100%;margin-bottom: 0;padding: 0.3em;box-sizing: border-box;text-align: center;}#sk-container-id-5 label.sk-toggleable__label-arrow:before {content: \"▸\";float: left;margin-right: 0.25em;color: #696969;}#sk-container-id-5 label.sk-toggleable__label-arrow:hover:before {color: black;}#sk-container-id-5 div.sk-estimator:hover label.sk-toggleable__label-arrow:before {color: black;}#sk-container-id-5 div.sk-toggleable__content {max-height: 0;max-width: 0;overflow: hidden;text-align: left;background-color: #f0f8ff;}#sk-container-id-5 div.sk-toggleable__content pre {margin: 0.2em;color: black;border-radius: 0.25em;background-color: #f0f8ff;}#sk-container-id-5 input.sk-toggleable__control:checked~div.sk-toggleable__content {max-height: 200px;max-width: 100%;overflow: auto;}#sk-container-id-5 input.sk-toggleable__control:checked~label.sk-toggleable__label-arrow:before {content: \"▾\";}#sk-container-id-5 div.sk-estimator input.sk-toggleable__control:checked~label.sk-toggleable__label {background-color: #d4ebff;}#sk-container-id-5 div.sk-label input.sk-toggleable__control:checked~label.sk-toggleable__label {background-color: #d4ebff;}#sk-container-id-5 input.sk-hidden--visually {border: 0;clip: rect(1px 1px 1px 1px);clip: rect(1px, 1px, 1px, 1px);height: 1px;margin: -1px;overflow: hidden;padding: 0;position: absolute;width: 1px;}#sk-container-id-5 div.sk-estimator {font-family: monospace;background-color: #f0f8ff;border: 1px dotted black;border-radius: 0.25em;box-sizing: border-box;margin-bottom: 0.5em;}#sk-container-id-5 div.sk-estimator:hover {background-color: #d4ebff;}#sk-container-id-5 div.sk-parallel-item::after {content: \"\";width: 100%;border-bottom: 1px solid gray;flex-grow: 1;}#sk-container-id-5 div.sk-label:hover label.sk-toggleable__label {background-color: #d4ebff;}#sk-container-id-5 div.sk-serial::before {content: \"\";position: absolute;border-left: 1px solid gray;box-sizing: border-box;top: 0;bottom: 0;left: 50%;z-index: 0;}#sk-container-id-5 div.sk-serial {display: flex;flex-direction: column;align-items: center;background-color: white;padding-right: 0.2em;padding-left: 0.2em;position: relative;}#sk-container-id-5 div.sk-item {position: relative;z-index: 1;}#sk-container-id-5 div.sk-parallel {display: flex;align-items: stretch;justify-content: center;background-color: white;position: relative;}#sk-container-id-5 div.sk-item::before, #sk-container-id-5 div.sk-parallel-item::before {content: \"\";position: absolute;border-left: 1px solid gray;box-sizing: border-box;top: 0;bottom: 0;left: 50%;z-index: -1;}#sk-container-id-5 div.sk-parallel-item {display: flex;flex-direction: column;z-index: 1;position: relative;background-color: white;}#sk-container-id-5 div.sk-parallel-item:first-child::after {align-self: flex-end;width: 50%;}#sk-container-id-5 div.sk-parallel-item:last-child::after {align-self: flex-start;width: 50%;}#sk-container-id-5 div.sk-parallel-item:only-child::after {width: 0;}#sk-container-id-5 div.sk-dashed-wrapped {border: 1px dashed gray;margin: 0 0.4em 0.5em 0.4em;box-sizing: border-box;padding-bottom: 0.4em;background-color: white;}#sk-container-id-5 div.sk-label label {font-family: monospace;font-weight: bold;display: inline-block;line-height: 1.2em;}#sk-container-id-5 div.sk-label-container {text-align: center;}#sk-container-id-5 div.sk-container {/* jupyter's `normalize.less` sets `[hidden] { display: none; }` but bootstrap.min.css set `[hidden] { display: none !important; }` so we also need the `!important` here to be able to override the default hidden behavior on the sphinx rendered scikit-learn.org. See: https://github.com/scikit-learn/scikit-learn/issues/21755 */display: inline-block !important;position: relative;}#sk-container-id-5 div.sk-text-repr-fallback {display: none;}</style><div id=\"sk-container-id-5\" class=\"sk-top-container\"><div class=\"sk-text-repr-fallback\"><pre>RandomForestClassifier()</pre><b>In a Jupyter environment, please rerun this cell to show the HTML representation or trust the notebook. <br />On GitHub, the HTML representation is unable to render, please try loading this page with nbviewer.org.</b></div><div class=\"sk-container\" hidden><div class=\"sk-item\"><div class=\"sk-estimator sk-toggleable\"><input class=\"sk-toggleable__control sk-hidden--visually\" id=\"sk-estimator-id-5\" type=\"checkbox\" checked><label for=\"sk-estimator-id-5\" class=\"sk-toggleable__label sk-toggleable__label-arrow\">RandomForestClassifier</label><div class=\"sk-toggleable__content\"><pre>RandomForestClassifier()</pre></div></div></div></div></div>"
      ],
      "text/plain": [
       "RandomForestClassifier()"
      ]
     },
     "execution_count": 78,
     "metadata": {},
     "output_type": "execute_result"
    }
   ],
   "source": [
    "rf = RandomForestClassifier()\n",
    "rf.fit(X_train, y_train)"
   ]
  },
  {
   "cell_type": "code",
   "execution_count": 79,
   "metadata": {},
   "outputs": [
    {
     "data": {
      "text/plain": [
       "call        0.047344\n",
       "txt         0.045999\n",
       "free        0.045676\n",
       "claim       0.038052\n",
       "mobile      0.026863\n",
       "              ...   \n",
       "short       0.000000\n",
       "hospital    0.000000\n",
       "bathe       0.000000\n",
       "mah         0.000000\n",
       "studying    0.000000\n",
       "Length: 1000, dtype: float64"
      ]
     },
     "execution_count": 79,
     "metadata": {},
     "output_type": "execute_result"
    }
   ],
   "source": [
    "res_rfc = pd.Series(rf.feature_importances_, X_train.columns).sort_values(ascending=False)\n",
    "res_rfc"
   ]
  },
  {
   "cell_type": "markdown",
   "metadata": {},
   "source": [
    "обёртка"
   ]
  },
  {
   "cell_type": "code",
   "execution_count": 80,
   "metadata": {
    "scrolled": false
   },
   "outputs": [
    {
     "name": "stdout",
     "output_type": "stream",
     "text": [
      "Step  1 , added  txt\n",
      "Step  2 , added  stop\n",
      "Step  3 , added  free\n",
      "Step  4 , added  text\n",
      "Step  5 , added  win\n",
      "Step  6 , added  call\n",
      "Step  7 , added  reply\n",
      "Step  8 , added  mobile\n",
      "Step  9 , added  claim\n",
      "Step  10 , added  service\n",
      "Step  11 , added  ur\n",
      "Step  12 , added  new\n",
      "Step  13 , added  nokia\n",
      "Step  14 , added  customer\n",
      "Step  15 , added  tone\n",
      "Step  16 , added  prize\n",
      "Step  17 , added  per\n",
      "Step  18 , added  urgent\n",
      "Step  19 , added  contact\n",
      "Step  20 , added  im\n",
      "Step  21 , added  admirer\n",
      "Step  22 , added  secret\n",
      "Step  23 , added  guaranteed\n",
      "Step  24 , added  cash\n",
      "Step  25 , added  please\n",
      "Step  26 , added  attempt\n",
      "Step  27 , added  ltgt\n",
      "Step  28 , added  ok\n",
      "Step  29 , added  ringtone\n",
      "Step  30 , added  awarded\n"
     ]
    }
   ],
   "source": [
    "lr = LogisticRegression()\n",
    "\n",
    "nof = 30\n",
    "res_wrap = []\n",
    "X_train_seq = X_train\n",
    "while len(res_wrap) < nof:\n",
    "    lr.fit(X_train_seq, y_train)\n",
    "    model_fi = permutation_importance(lr, X_train_seq, y_train)\n",
    "    max_value = max(model_fi['importances_mean'])\n",
    "    max_index = np.argmax(model_fi['importances_mean'])\n",
    "    print('Step ', (len(res_wrap) + 1), ', added ', X_train_seq.columns[max_index])\n",
    "    res_wrap.append(X_train_seq.columns[max_index])\n",
    "    X_train_seq = X_train_seq.drop(X_train_seq.columns[max_index], axis=1)"
   ]
  },
  {
   "cell_type": "markdown",
   "metadata": {},
   "source": [
    "фильтр"
   ]
  },
  {
   "cell_type": "code",
   "execution_count": 81,
   "metadata": {},
   "outputs": [
    {
     "data": {
      "text/plain": [
       "class     1.000000\n",
       "whos      0.097243\n",
       "coming    0.093596\n",
       "go        0.088357\n",
       "hours     0.063223\n",
       "            ...   \n",
       "come     -0.014501\n",
       "free     -0.014744\n",
       "ill      -0.015255\n",
       "ur       -0.016921\n",
       "brings         NaN\n",
       "Name: class, Length: 1000, dtype: float64"
      ]
     },
     "execution_count": 81,
     "metadata": {},
     "output_type": "execute_result"
    }
   ],
   "source": [
    "X_train_filter = X_train\n",
    "corr = X_train_filter.corr(method='pearson')['class']\n",
    "res_filt = corr.sort_values(ascending=False)\n",
    "res_filt"
   ]
  },
  {
   "cell_type": "code",
   "execution_count": 82,
   "metadata": {},
   "outputs": [
    {
     "name": "stdout",
     "output_type": "stream",
     "text": [
      "Встроенный:  ['call' 'txt' 'free' 'claim' 'mobile' 'stop' 'reply' 'text' 'prize' 'win'\n",
      " 'urgent' 'service' 'tone' 'nokia' 'box' 'chat' 'cash' 'awarded'\n",
      " 'customer' 'ringtone' 'pmin' 'per' 'new' 'guaranteed' 'mins' 'landline'\n",
      " 'contact' 'pobox' 'apply' 'video']\n",
      "Oбертка:  ['txt' 'stop' 'free' 'text' 'win' 'call' 'reply' 'mobile' 'claim'\n",
      " 'service' 'ur' 'new' 'nokia' 'customer' 'tone' 'prize' 'per' 'urgent'\n",
      " 'contact' 'im' 'admirer' 'secret' 'guaranteed' 'cash' 'please' 'attempt'\n",
      " 'ltgt' 'ok' 'ringtone' 'awarded']\n",
      "Фильтр:  ['class' 'whos' 'coming' 'go' 'hours' 'ugh' 'voucher' 'finished' 'todays'\n",
      " 'day' 'done' 'plz' 'using' 'saw' 'weed' 'theres' 'shower' 'came' 'water'\n",
      " 'carlos' 'yeah' 'update' 'run' 'smoke' 'doesnt' 'right' 'sleep' 'st'\n",
      " 'first' 'much']\n"
     ]
    }
   ],
   "source": [
    "print('Встроенный: ', np.array(res_rfc.index[:30]))\n",
    "print('Oбертка: ', np.array(res_wrap))\n",
    "print('Фильтр: ', np.array(res_filt.index[:30]))"
   ]
  },
  {
   "cell_type": "markdown",
   "metadata": {},
   "source": [
    "Фильтр (фишер)"
   ]
  },
  {
   "cell_type": "code",
   "execution_count": 83,
   "metadata": {},
   "outputs": [
    {
     "data": {
      "text/plain": [
       "Index(['haha', 'expires', 'collect', 'phone', 'happy', 'trying', 'street',\n",
       "       'heard', 'join', 'wit', 'yr', 'shall', 'starting', 'thought',\n",
       "       'especially', 'promise', 'hiya', 'smile', 'kinda', 'forwarded', 'date',\n",
       "       'cd', 'right', 'questions', 'wil', 'hold', 'loving', 'disturb', 'lect',\n",
       "       'sea'],\n",
       "      dtype='object')"
      ]
     },
     "execution_count": 83,
     "metadata": {},
     "output_type": "execute_result"
    }
   ],
   "source": [
    "X_train_fish = X_train\n",
    "ranks = fisher_score.fisher_score(X_train_fish.to_numpy(), y_train.to_numpy())\n",
    "feature_importances = pd.Series(ranks, X_train_fish.columns)\n",
    "res_fish = feature_importances.sort_values(ascending=True)[:30].index\n",
    "res_fish"
   ]
  },
  {
   "cell_type": "markdown",
   "metadata": {},
   "source": [
    "Обертка (рекурсивное исключение)"
   ]
  },
  {
   "cell_type": "code",
   "execution_count": 84,
   "metadata": {},
   "outputs": [],
   "source": [
    "X_train_rec = X_train\n",
    "lr = LogisticRegression(class_weight = 'balanced')\n",
    "rfe = RFE(lr, n_features_to_select=30)\n",
    "rfe = rfe.fit(X_train_rec, y_train)"
   ]
  },
  {
   "cell_type": "code",
   "execution_count": 85,
   "metadata": {},
   "outputs": [
    {
     "data": {
      "text/plain": [
       "Index(['apply', 'awarded', 'box', 'call', 'cash', 'chat', 'claim', 'free',\n",
       "       'ill', 'im', 'ltgt', 'mobile', 'nokia', 'ok', 'per', 'pmin', 'pobox',\n",
       "       'prize', 'reply', 'ringtone', 'send', 'service', 'specialcall',\n",
       "       'statement', 'stop', 'text', 'tones', 'txt', 'urgent', 'win'],\n",
       "      dtype='object')"
      ]
     },
     "execution_count": 85,
     "metadata": {},
     "output_type": "execute_result"
    }
   ],
   "source": [
    "res_rec = X_train_rec.iloc[ : ,rfe.get_support()]\n",
    "res_rec.columns"
   ]
  },
  {
   "cell_type": "markdown",
   "metadata": {},
   "source": [
    "Встроенный (регуляризация)"
   ]
  },
  {
   "cell_type": "code",
   "execution_count": 86,
   "metadata": {},
   "outputs": [
    {
     "data": {
      "text/plain": [
       "Index(['access', 'admirer', 'apply', 'attempt', 'auction', 'award', 'awarded',\n",
       "       'box', 'call', 'calls',\n",
       "       ...\n",
       "       'waiting', 'wap', 'way', 'weeks', 'welcome', 'win', 'wk', 'word',\n",
       "       'xmas', 'xx'],\n",
       "      dtype='object', length=132)"
      ]
     },
     "execution_count": 86,
     "metadata": {},
     "output_type": "execute_result"
    }
   ],
   "source": [
    "X_train_emb = X_train\n",
    "select = SelectFromModel(LogisticRegression(penalty='l1',solver='liblinear', random_state=9))\n",
    "select.fit(X_train_emb, y_train)\n",
    "res_emb = X_train_emb.iloc[ : , select.get_support()]\n",
    "res_emb.columns"
   ]
  },
  {
   "cell_type": "code",
   "execution_count": 87,
   "metadata": {},
   "outputs": [
    {
     "name": "stdout",
     "output_type": "stream",
     "text": [
      "Мои: \n",
      "['ass', 'bathe', 'brings', 'callertune', 'catch', 'cut', 'empty', 'gal', 'gods', 'ha', 'hospital', 'kind', 'lazy', 'leaves', 'lect', 'loved', 'loving', 'mah', 'mrt', 'mu', 'outside', 'pizza', 'police', 'sch', 'short', 'studying', 'train', 'wishes', 'woke', 'worried']\n",
      "['admirer', 'attempt', 'awarded', 'call', 'cash', 'claim', 'contact', 'customer', 'free', 'guaranteed', 'im', 'ltgt', 'mobile', 'new', 'nokia', 'ok', 'per', 'please', 'prize', 'reply', 'ringtone', 'secret', 'service', 'stop', 'text', 'tone', 'txt', 'ur', 'urgent', 'win']\n",
      "['came', 'carlos', 'class', 'coming', 'day', 'doesnt', 'done', 'finished', 'first', 'go', 'hours', 'much', 'plz', 'right', 'run', 'saw', 'shower', 'sleep', 'smoke', 'st', 'theres', 'todays', 'ugh', 'update', 'using', 'voucher', 'water', 'weed', 'whos', 'yeah']\n",
      "Библиотечные: \n",
      "['cd', 'collect', 'date', 'disturb', 'especially', 'expires', 'forwarded', 'haha', 'happy', 'heard', 'hiya', 'hold', 'join', 'kinda', 'lect', 'loving', 'phone', 'promise', 'questions', 'right', 'sea', 'shall', 'smile', 'starting', 'street', 'thought', 'trying', 'wil', 'wit', 'yr']\n",
      "['apply', 'awarded', 'box', 'call', 'cash', 'chat', 'claim', 'free', 'ill', 'im', 'ltgt', 'mobile', 'nokia', 'ok', 'per', 'pmin', 'pobox', 'prize', 'reply', 'ringtone', 'send', 'service', 'specialcall', 'statement', 'stop', 'text', 'tones', 'txt', 'urgent', 'win']\n",
      "['access', 'admirer', 'apply', 'attempt', 'auction', 'award', 'awarded', 'box', 'call', 'calls', 'camera', 'cant', 'cash', 'charity', 'chat', 'choose', 'claim', 'club', 'code', 'collect', 'collection', 'come', 'contact', 'content', 'cost', 'credit', 'credits', 'currently', 'customer', 'da']\n"
     ]
    }
   ],
   "source": [
    "print('Мои: ')\n",
    "print(sorted(np.array(res_rfc.index[-30:])))\n",
    "print(sorted(np.array(res_wrap)))\n",
    "print(sorted(np.array(res_filt.index[:30])))\n",
    "print('Библиотечные: ')\n",
    "print(sorted(np.array(res_fish)))\n",
    "print(sorted(np.array(res_rec.columns)))\n",
    "print(sorted(np.array(res_emb.columns[:30])))"
   ]
  },
  {
   "cell_type": "code",
   "execution_count": 88,
   "metadata": {},
   "outputs": [],
   "source": [
    "classifiers = {\n",
    "    'LogisticRegression': LogisticRegression(), \n",
    "    'Knn': KNeighborsClassifier(n_neighbors=40), \n",
    "    'RandomForestClassifier': RandomForestClassifier()\n",
    "}\n",
    "\n",
    "X_train_in_emb = pd.DataFrame(X_train, columns = np.array(res_rfc.index[-30:]))\n",
    "X_train_wrap = pd.DataFrame(X_train, columns = np.array(res_wrap))\n",
    "X_train_filt = pd.DataFrame(X_train, columns = np.array(res_filt.index[-30:-1])[::-1])\n",
    "X_train_fish = pd.DataFrame(X_train, columns = np.array(res_fish))\n",
    "X_train_rec = pd.DataFrame(X_train, columns = np.array(res_rec.columns))\n",
    "X_train_res_emb = pd.DataFrame(X_train, columns = np.array(res_emb.columns))\n",
    "\n",
    "X_test_in_emb = pd.DataFrame(X_test, columns = np.array(res_rfc.index[-30:]))\n",
    "X_test_wrap = pd.DataFrame(X_test, columns = np.array(res_wrap))\n",
    "X_test_filt = pd.DataFrame(X_test, columns = np.array(res_filt.index[-30:-1])[::-1])\n",
    "X_test_fish = pd.DataFrame(X_test, columns = np.array(res_fish))\n",
    "X_test_rec = pd.DataFrame(X_test, columns = np.array(res_rec.columns))\n",
    "X_test_res_emb = pd.DataFrame(X_test, columns = np.array(res_emb.columns))"
   ]
  },
  {
   "cell_type": "code",
   "execution_count": 89,
   "metadata": {},
   "outputs": [],
   "source": [
    "def print_res(c_name, classifier):\n",
    "    print(c_name)\n",
    "    \n",
    "    classifier.fit(X_train, y_train)\n",
    "    y_pred = classifier.predict(X_test) \n",
    "    print('До выбора признаков: ', accuracy_score(y_test, y_pred))\n",
    "    \n",
    "    print('После выбора признаков')\n",
    "    \n",
    "    classifier.fit(X_train_in_emb, y_train)\n",
    "    y_pred = classifier.predict(X_test_in_emb) \n",
    "    print('Random Forest: ', accuracy_score(y_test, y_pred))\n",
    "    \n",
    "    classifier.fit(X_train_wrap, y_train)\n",
    "    y_pred = classifier.predict(X_test_wrap) \n",
    "    print('Wrap (sequential): ', accuracy_score(y_test, y_pred))\n",
    "    \n",
    "    classifier.fit(X_train_filt, y_train)\n",
    "    y_pred = classifier.predict(X_test_filt) \n",
    "    print('Correlation: ', accuracy_score(y_test, y_pred))\n",
    "    \n",
    "    classifier.fit(X_train_fish, y_train)\n",
    "    y_pred = classifier.predict(X_test_fish) \n",
    "    print('Фишер: ', accuracy_score(y_test, y_pred))\n",
    "    \n",
    "    classifier.fit(X_train_rec, y_train)\n",
    "    y_pred = classifier.predict(X_test_rec) \n",
    "    print('Рекурсивное исключение: ', accuracy_score(y_test, y_pred))\n",
    "    \n",
    "    classifier.fit(X_train_res_emb, y_train)\n",
    "    y_pred = classifier.predict(X_test_res_emb) \n",
    "    print('Регуляризация: ', accuracy_score(y_test, y_pred))\n",
    "    \n",
    "    print()\n",
    "    "
   ]
  },
  {
   "cell_type": "code",
   "execution_count": 90,
   "metadata": {},
   "outputs": [
    {
     "name": "stdout",
     "output_type": "stream",
     "text": [
      "LogisticRegression\n",
      "До выбора признаков:  0.9770279971284996\n",
      "После выбора признаков\n",
      "Random Forest:  0.8779612347451543\n",
      "Wrap (sequential):  0.9310839913854989\n",
      "Correlation:  0.9016511127063891\n",
      "Фишер:  0.87724335965542\n",
      "Рекурсивное исключение:  0.9339554917444365\n",
      "Регуляризация:  0.9612347451543432\n",
      "\n",
      "Knn\n",
      "До выбора признаков:  0.8779612347451543\n",
      "После выбора признаков\n",
      "Random Forest:  0.8779612347451543\n",
      "Wrap (sequential):  0.9260588657573582\n",
      "Correlation:  0.9325197415649676\n",
      "Фишер:  0.8801148600143575\n",
      "Рекурсивное исключение:  0.9339554917444365\n",
      "Регуляризация:  0.8880114860014358\n",
      "\n",
      "RandomForestClassifier\n",
      "До выбора признаков:  0.9813352476669059\n",
      "После выбора признаков\n",
      "Random Forest:  0.8779612347451543\n",
      "Wrap (sequential):  0.9569274946159368\n",
      "Correlation:  0.9511844938980617\n",
      "Фишер:  0.8930366116295765\n",
      "Рекурсивное исключение:  0.9562096195262024\n",
      "Регуляризация:  0.9748743718592965\n",
      "\n"
     ]
    }
   ],
   "source": [
    "for cn, cl in classifiers.items():\n",
    "    print_res(cn, cl)"
   ]
  },
  {
   "cell_type": "code",
   "execution_count": null,
   "metadata": {},
   "outputs": [],
   "source": []
  }
 ],
 "metadata": {
  "kernelspec": {
   "display_name": "Python 3 (ipykernel)",
   "language": "python",
   "name": "python3"
  },
  "language_info": {
   "codemirror_mode": {
    "name": "ipython",
    "version": 3
   },
   "file_extension": ".py",
   "mimetype": "text/x-python",
   "name": "python",
   "nbconvert_exporter": "python",
   "pygments_lexer": "ipython3",
   "version": "3.10.7"
  }
 },
 "nbformat": 4,
 "nbformat_minor": 1
}
