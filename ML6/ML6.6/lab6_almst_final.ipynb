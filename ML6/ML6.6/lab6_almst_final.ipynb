{
 "cells": [
  {
   "cell_type": "code",
   "execution_count": 106,
   "metadata": {},
   "outputs": [],
   "source": [
    "import re\n",
    "import string\n",
    "import numpy as np\n",
    "import pandas as pd\n",
    "\n",
    "from sklearn.svm import SVC\n",
    "from nltk.corpus import stopwords\n",
    "from sklearn.feature_selection import RFE\n",
    "from sklearn.metrics import accuracy_score\n",
    "from sklearn.tree import DecisionTreeClassifier\n",
    "from sklearn.neighbors import KNeighborsClassifier\n",
    "from sklearn.ensemble import RandomForestClassifier\n",
    "from sklearn.linear_model import LogisticRegression\n",
    "from sklearn.model_selection import train_test_split\n",
    "from sklearn.inspection import permutation_importance\n",
    "from skfeature.function.similarity_based import fisher_score\n",
    "from sklearn.feature_extraction.text import TfidfVectorizer, CountVectorizer\n",
    "from sklearn.feature_selection import chi2, SelectKBest, SequentialFeatureSelector, SelectFromModel"
   ]
  },
  {
   "cell_type": "code",
   "execution_count": 107,
   "metadata": {},
   "outputs": [
    {
     "data": {
      "text/html": [
       "<div>\n",
       "<style scoped>\n",
       "    .dataframe tbody tr th:only-of-type {\n",
       "        vertical-align: middle;\n",
       "    }\n",
       "\n",
       "    .dataframe tbody tr th {\n",
       "        vertical-align: top;\n",
       "    }\n",
       "\n",
       "    .dataframe thead th {\n",
       "        text-align: right;\n",
       "    }\n",
       "</style>\n",
       "<table border=\"1\" class=\"dataframe\">\n",
       "  <thead>\n",
       "    <tr style=\"text-align: right;\">\n",
       "      <th></th>\n",
       "      <th>class</th>\n",
       "      <th>text</th>\n",
       "    </tr>\n",
       "  </thead>\n",
       "  <tbody>\n",
       "    <tr>\n",
       "      <th>0</th>\n",
       "      <td>ham</td>\n",
       "      <td>Go until jurong point, crazy.. Available only ...</td>\n",
       "    </tr>\n",
       "    <tr>\n",
       "      <th>1</th>\n",
       "      <td>ham</td>\n",
       "      <td>Ok lar... Joking wif u oni...</td>\n",
       "    </tr>\n",
       "    <tr>\n",
       "      <th>2</th>\n",
       "      <td>spam</td>\n",
       "      <td>Free entry in 2 a wkly comp to win FA Cup fina...</td>\n",
       "    </tr>\n",
       "    <tr>\n",
       "      <th>3</th>\n",
       "      <td>ham</td>\n",
       "      <td>U dun say so early hor... U c already then say...</td>\n",
       "    </tr>\n",
       "    <tr>\n",
       "      <th>4</th>\n",
       "      <td>ham</td>\n",
       "      <td>Nah I don't think he goes to usf, he lives aro...</td>\n",
       "    </tr>\n",
       "    <tr>\n",
       "      <th>5</th>\n",
       "      <td>spam</td>\n",
       "      <td>FreeMsg Hey there darling it's been 3 week's n...</td>\n",
       "    </tr>\n",
       "    <tr>\n",
       "      <th>6</th>\n",
       "      <td>ham</td>\n",
       "      <td>Even my brother is not like to speak with me. ...</td>\n",
       "    </tr>\n",
       "    <tr>\n",
       "      <th>7</th>\n",
       "      <td>ham</td>\n",
       "      <td>As per your request 'Melle Melle (Oru Minnamin...</td>\n",
       "    </tr>\n",
       "    <tr>\n",
       "      <th>8</th>\n",
       "      <td>spam</td>\n",
       "      <td>WINNER!! As a valued network customer you have...</td>\n",
       "    </tr>\n",
       "    <tr>\n",
       "      <th>9</th>\n",
       "      <td>spam</td>\n",
       "      <td>Had your mobile 11 months or more? U R entitle...</td>\n",
       "    </tr>\n",
       "  </tbody>\n",
       "</table>\n",
       "</div>"
      ],
      "text/plain": [
       "  class                                               text\n",
       "0   ham  Go until jurong point, crazy.. Available only ...\n",
       "1   ham                      Ok lar... Joking wif u oni...\n",
       "2  spam  Free entry in 2 a wkly comp to win FA Cup fina...\n",
       "3   ham  U dun say so early hor... U c already then say...\n",
       "4   ham  Nah I don't think he goes to usf, he lives aro...\n",
       "5  spam  FreeMsg Hey there darling it's been 3 week's n...\n",
       "6   ham  Even my brother is not like to speak with me. ...\n",
       "7   ham  As per your request 'Melle Melle (Oru Minnamin...\n",
       "8  spam  WINNER!! As a valued network customer you have...\n",
       "9  spam  Had your mobile 11 months or more? U R entitle..."
      ]
     },
     "execution_count": 107,
     "metadata": {},
     "output_type": "execute_result"
    }
   ],
   "source": [
    "df = pd.read_csv('data/SMS.tsv', sep='\\t')\n",
    "df.head(10)"
   ]
  },
  {
   "cell_type": "code",
   "execution_count": 114,
   "metadata": {},
   "outputs": [],
   "source": [
    "# refactor rename\n",
    "\n",
    "df['class'] = pd.factorize(df['class'])[0]\n",
    "text = []\n",
    "for s in df['text']:\n",
    "    s = s.translate(str.maketrans('', '', string.punctuation))\n",
    "    s = re.sub('\\s+', ' ', s)\n",
    "    s = re.sub('\\d+', '', s)\n",
    "    text.append(s)\n",
    "    \n",
    "n = 400\n",
    "vectorizer = TfidfVectorizer(max_features=n, stop_words=stopwords.words('english'))\n",
    "# X = vectorizer.fit_transform(text)\n",
    "X = pd.DataFrame(vectorizer.fit_transform(text).toarray(), columns=vectorizer.get_feature_names_out())\n",
    "X_train, X_test, y_train, y_test = train_test_split(X, df['class'], test_size=0.25, random_state=0)"
   ]
  },
  {
   "cell_type": "markdown",
   "metadata": {},
   "source": [
    "Встроенный"
   ]
  },
  {
   "cell_type": "code",
   "execution_count": 115,
   "metadata": {},
   "outputs": [
    {
     "data": {
      "text/html": [
       "<style>#sk-container-id-3 {color: black;background-color: white;}#sk-container-id-3 pre{padding: 0;}#sk-container-id-3 div.sk-toggleable {background-color: white;}#sk-container-id-3 label.sk-toggleable__label {cursor: pointer;display: block;width: 100%;margin-bottom: 0;padding: 0.3em;box-sizing: border-box;text-align: center;}#sk-container-id-3 label.sk-toggleable__label-arrow:before {content: \"▸\";float: left;margin-right: 0.25em;color: #696969;}#sk-container-id-3 label.sk-toggleable__label-arrow:hover:before {color: black;}#sk-container-id-3 div.sk-estimator:hover label.sk-toggleable__label-arrow:before {color: black;}#sk-container-id-3 div.sk-toggleable__content {max-height: 0;max-width: 0;overflow: hidden;text-align: left;background-color: #f0f8ff;}#sk-container-id-3 div.sk-toggleable__content pre {margin: 0.2em;color: black;border-radius: 0.25em;background-color: #f0f8ff;}#sk-container-id-3 input.sk-toggleable__control:checked~div.sk-toggleable__content {max-height: 200px;max-width: 100%;overflow: auto;}#sk-container-id-3 input.sk-toggleable__control:checked~label.sk-toggleable__label-arrow:before {content: \"▾\";}#sk-container-id-3 div.sk-estimator input.sk-toggleable__control:checked~label.sk-toggleable__label {background-color: #d4ebff;}#sk-container-id-3 div.sk-label input.sk-toggleable__control:checked~label.sk-toggleable__label {background-color: #d4ebff;}#sk-container-id-3 input.sk-hidden--visually {border: 0;clip: rect(1px 1px 1px 1px);clip: rect(1px, 1px, 1px, 1px);height: 1px;margin: -1px;overflow: hidden;padding: 0;position: absolute;width: 1px;}#sk-container-id-3 div.sk-estimator {font-family: monospace;background-color: #f0f8ff;border: 1px dotted black;border-radius: 0.25em;box-sizing: border-box;margin-bottom: 0.5em;}#sk-container-id-3 div.sk-estimator:hover {background-color: #d4ebff;}#sk-container-id-3 div.sk-parallel-item::after {content: \"\";width: 100%;border-bottom: 1px solid gray;flex-grow: 1;}#sk-container-id-3 div.sk-label:hover label.sk-toggleable__label {background-color: #d4ebff;}#sk-container-id-3 div.sk-serial::before {content: \"\";position: absolute;border-left: 1px solid gray;box-sizing: border-box;top: 0;bottom: 0;left: 50%;z-index: 0;}#sk-container-id-3 div.sk-serial {display: flex;flex-direction: column;align-items: center;background-color: white;padding-right: 0.2em;padding-left: 0.2em;position: relative;}#sk-container-id-3 div.sk-item {position: relative;z-index: 1;}#sk-container-id-3 div.sk-parallel {display: flex;align-items: stretch;justify-content: center;background-color: white;position: relative;}#sk-container-id-3 div.sk-item::before, #sk-container-id-3 div.sk-parallel-item::before {content: \"\";position: absolute;border-left: 1px solid gray;box-sizing: border-box;top: 0;bottom: 0;left: 50%;z-index: -1;}#sk-container-id-3 div.sk-parallel-item {display: flex;flex-direction: column;z-index: 1;position: relative;background-color: white;}#sk-container-id-3 div.sk-parallel-item:first-child::after {align-self: flex-end;width: 50%;}#sk-container-id-3 div.sk-parallel-item:last-child::after {align-self: flex-start;width: 50%;}#sk-container-id-3 div.sk-parallel-item:only-child::after {width: 0;}#sk-container-id-3 div.sk-dashed-wrapped {border: 1px dashed gray;margin: 0 0.4em 0.5em 0.4em;box-sizing: border-box;padding-bottom: 0.4em;background-color: white;}#sk-container-id-3 div.sk-label label {font-family: monospace;font-weight: bold;display: inline-block;line-height: 1.2em;}#sk-container-id-3 div.sk-label-container {text-align: center;}#sk-container-id-3 div.sk-container {/* jupyter's `normalize.less` sets `[hidden] { display: none; }` but bootstrap.min.css set `[hidden] { display: none !important; }` so we also need the `!important` here to be able to override the default hidden behavior on the sphinx rendered scikit-learn.org. See: https://github.com/scikit-learn/scikit-learn/issues/21755 */display: inline-block !important;position: relative;}#sk-container-id-3 div.sk-text-repr-fallback {display: none;}</style><div id=\"sk-container-id-3\" class=\"sk-top-container\"><div class=\"sk-text-repr-fallback\"><pre>RandomForestClassifier()</pre><b>In a Jupyter environment, please rerun this cell to show the HTML representation or trust the notebook. <br />On GitHub, the HTML representation is unable to render, please try loading this page with nbviewer.org.</b></div><div class=\"sk-container\" hidden><div class=\"sk-item\"><div class=\"sk-estimator sk-toggleable\"><input class=\"sk-toggleable__control sk-hidden--visually\" id=\"sk-estimator-id-3\" type=\"checkbox\" checked><label for=\"sk-estimator-id-3\" class=\"sk-toggleable__label sk-toggleable__label-arrow\">RandomForestClassifier</label><div class=\"sk-toggleable__content\"><pre>RandomForestClassifier()</pre></div></div></div></div></div>"
      ],
      "text/plain": [
       "RandomForestClassifier()"
      ]
     },
     "execution_count": 115,
     "metadata": {},
     "output_type": "execute_result"
    }
   ],
   "source": [
    "rf = RandomForestClassifier()\n",
    "rf.fit(X_train, y_train)"
   ]
  },
  {
   "cell_type": "code",
   "execution_count": 142,
   "metadata": {},
   "outputs": [
    {
     "data": {
      "text/plain": [
       "though    7.417976e-07\n",
       "wif       9.591236e-07\n",
       "shes      1.193961e-06\n",
       "watch     1.381272e-06\n",
       "haha      1.789480e-06\n",
       "              ...     \n",
       "mobile    3.479455e-02\n",
       "claim     3.646469e-02\n",
       "free      3.967451e-02\n",
       "txt       5.944768e-02\n",
       "call      7.850275e-02\n",
       "Length: 400, dtype: float64"
      ]
     },
     "execution_count": 142,
     "metadata": {},
     "output_type": "execute_result"
    }
   ],
   "source": [
    "# coef = pd.Series(rf.feature_importances_, X_train.columns).sort_values(ascending=False)\n",
    "\n",
    "# rename\n",
    "coef_emb = pd.Series(rf.feature_importances_, X_train.columns).sort_values()\n",
    "coef_emb"
   ]
  },
  {
   "cell_type": "markdown",
   "metadata": {},
   "source": [
    "обёртка"
   ]
  },
  {
   "cell_type": "code",
   "execution_count": 118,
   "metadata": {
    "scrolled": false
   },
   "outputs": [
    {
     "name": "stdout",
     "output_type": "stream",
     "text": [
      "Step  1 , added  call\n",
      "Step  2 , added  free\n",
      "Step  3 , added  mobile\n",
      "Step  4 , added  txt\n",
      "Step  5 , added  stop\n",
      "Step  6 , added  text\n",
      "Step  7 , added  claim\n",
      "Step  8 , added  reply\n",
      "Step  9 , added  per\n",
      "Step  10 , added  ur\n",
      "Step  11 , added  service\n",
      "Step  12 , added  new\n",
      "Step  13 , added  prize\n",
      "Step  14 , added  win\n",
      "Step  15 , added  customer\n",
      "Step  16 , added  code\n",
      "Step  17 , added  cash\n",
      "Step  18 , added  account\n",
      "Step  19 , added  sms\n",
      "Step  20 , added  contact\n",
      "Step  21 , added  guaranteed\n",
      "Step  22 , added  nokia\n",
      "Step  23 , added  tone\n",
      "Step  24 , added  shows\n",
      "Step  25 , added  urgent\n",
      "Step  26 , added  pobox\n",
      "Step  27 , added  mob\n",
      "Step  28 , added  ltgt\n",
      "Step  29 , added  ringtone\n",
      "Step  30 , added  mins\n"
     ]
    }
   ],
   "source": [
    "lr = LogisticRegression()\n",
    "\n",
    "nof = 30\n",
    "coef_wrap = []\n",
    "X_train_seq = X_train\n",
    "while len(coef_wrap) < nof:\n",
    "    lr.fit(X_train_seq, y_train)\n",
    "    model_fi = permutation_importance(lr, X_train_seq, y_train)\n",
    "    max_value = max(model_fi['importances_mean'])\n",
    "    max_index = np.argmax(model_fi['importances_mean'])\n",
    "    print('Step ', (len(coef_wrap) + 1), ', added ', X_train_seq.columns[max_index])\n",
    "    coef_wrap.append(X_train_seq.columns[max_index])\n",
    "    X_train_seq = X_train_seq.drop(X_train_seq.columns[max_index], axis=1)"
   ]
  },
  {
   "cell_type": "markdown",
   "metadata": {},
   "source": [
    "фильтр"
   ]
  },
  {
   "cell_type": "code",
   "execution_count": 123,
   "metadata": {},
   "outputs": [
    {
     "data": {
      "text/plain": [
       "ur       -0.018241\n",
       "free     -0.015835\n",
       "call     -0.015149\n",
       "like     -0.014854\n",
       "send     -0.014156\n",
       "            ...   \n",
       "yo        0.040357\n",
       "go        0.048681\n",
       "todays    0.051914\n",
       "coming    0.060509\n",
       "class     1.000000\n",
       "Name: class, Length: 400, dtype: float64"
      ]
     },
     "execution_count": 123,
     "metadata": {},
     "output_type": "execute_result"
    }
   ],
   "source": [
    "# rename\n",
    "\n",
    "X_train_filter = X_train\n",
    "# corr = X_train_filter.corr(method='pearson')\n",
    "corr_class = X_train_filter.corr(method='pearson')['class']\n",
    "coef_filt = corr_class.sort_values()\n",
    "coef_filt"
   ]
  },
  {
   "cell_type": "code",
   "execution_count": 126,
   "metadata": {},
   "outputs": [
    {
     "name": "stdout",
     "output_type": "stream",
     "text": [
      "Встроенный:  ['call' 'txt' 'free' 'claim' 'mobile' 'stop' 'text' 'prize' 'reply' 'win'\n",
      " 'service' 'cash' 'guaranteed' 'urgent' 'nokia' 'ppm' 'new' 'per' 'chat'\n",
      " 'tones' 'contact' 'tone' 'customer' 'send' 'ur' 'box' 'ringtone' 'sms'\n",
      " 'video' 'code']\n",
      "Oбертка:  ['call' 'free' 'mobile' 'txt' 'stop' 'text' 'claim' 'reply' 'per' 'ur'\n",
      " 'service' 'new' 'prize' 'win' 'customer' 'code' 'cash' 'account' 'sms'\n",
      " 'contact' 'guaranteed' 'nokia' 'tone' 'shows' 'urgent' 'pobox' 'mob'\n",
      " 'ltgt' 'ringtone' 'mins']\n",
      "Фильтр:  ['coming' 'todays' 'go' 'yo' 'done' 'saw' 'able' 'st' 'says' 'theres'\n",
      " 'got' 'run' 'though' 'yeah' 'day' 'join' 'whats' 'might' 'early' 'gonna'\n",
      " 'tomorrow' 'name' 'sure' 'hi' 'wanna' 'sorry' 'much' 'holiday' 'time']\n"
     ]
    }
   ],
   "source": [
    "# refactor rename\n",
    "\n",
    "print('Встроенный: ', np.array(coef_emb.index[-30:])[::-1])\n",
    "print('Oбертка: ', np.array(coef_wrap[-30:]))\n",
    "print('Фильтр: ', np.array(coef_filt.index[-30:-1])[::-1])"
   ]
  },
  {
   "cell_type": "markdown",
   "metadata": {},
   "source": [
    "Фильтр (фишер)"
   ]
  },
  {
   "cell_type": "code",
   "execution_count": 127,
   "metadata": {},
   "outputs": [
    {
     "data": {
      "text/plain": [
       "Index(['liao', 'real', 'school', 'let', 'well', 'yesterday', 'xmas',\n",
       "       'watching', 'girl', 'ive', 'food', 'cos', 'sleep', 'told', 'start',\n",
       "       'office', 'home', 'cost', 'sms', 'could', 'really', 'sweet', 'anything',\n",
       "       'tonight', 'reply', 'stuff', 'lar', 'run', 'fine', 'back'],\n",
       "      dtype='object')"
      ]
     },
     "execution_count": 127,
     "metadata": {},
     "output_type": "execute_result"
    }
   ],
   "source": [
    "X_train_fish = X_train\n",
    "ranks = fisher_score.fisher_score(X_train_fish.to_numpy(), y_train.to_numpy())\n",
    "feature_importances = pd.Series(ranks, X_train_fish.columns)\n",
    "res_fish = feature_importances.sort_values(ascending=True)[:30].index\n",
    "res_fish"
   ]
  },
  {
   "cell_type": "markdown",
   "metadata": {},
   "source": [
    "Обертка (рекурсивное исключение)"
   ]
  },
  {
   "cell_type": "code",
   "execution_count": 130,
   "metadata": {},
   "outputs": [],
   "source": [
    "X_train_rec = X_train\n",
    "lr = LogisticRegression(class_weight = 'balanced', solver = 'lbfgs', random_state=42, n_jobs=-1, max_iter=50)\n",
    "rfe = RFE(lr, n_features_to_select=30)\n",
    "rfe = rfe.fit(X_train_rec, y_train)"
   ]
  },
  {
   "cell_type": "code",
   "execution_count": 131,
   "metadata": {},
   "outputs": [
    {
     "data": {
      "text/plain": [
       "Index(['box', 'call', 'cash', 'chat', 'claim', 'code', 'collect', 'contact',\n",
       "       'cost', 'free', 'gift', 'ill', 'important', 'landline', 'mobile', 'new',\n",
       "       'pmin', 'prize', 'reply', 'ringtone', 'send', 'service', 'sexy', 'stop',\n",
       "       'text', 'tone', 'tones', 'txt', 'urgent', 'win'],\n",
       "      dtype='object')"
      ]
     },
     "execution_count": 131,
     "metadata": {},
     "output_type": "execute_result"
    }
   ],
   "source": [
    "res_rec = X_train_rec.iloc[ : ,rfe.get_support()]\n",
    "res_rec.columns"
   ]
  },
  {
   "cell_type": "markdown",
   "metadata": {},
   "source": [
    "Встроенный (регуляризация)"
   ]
  },
  {
   "cell_type": "code",
   "execution_count": 134,
   "metadata": {},
   "outputs": [
    {
     "data": {
      "text/plain": [
       "Index(['account', 'box', 'call', 'cash', 'chat', 'claim', 'code', 'collect',\n",
       "       'contact', 'cost', 'customer', 'find', 'free', 'ill', 'im', 'landline',\n",
       "       'later', 'ltgt', 'message', 'mins', 'mobile', 'new', 'nokia', 'ok',\n",
       "       'per', 'ppm', 'prize', 'receive', 'reply', 'ringtone', 'send',\n",
       "       'service', 'stop', 'text', 'tone', 'tones', 'txt', 'ur', 'urgent',\n",
       "       'win'],\n",
       "      dtype='object')"
      ]
     },
     "execution_count": 134,
     "metadata": {},
     "output_type": "execute_result"
    }
   ],
   "source": [
    "# refactor\n",
    "\n",
    "X_train_emb = X_train\n",
    "selector = SelectFromModel(LogisticRegression(C=0.25, penalty='l1',solver='liblinear', random_state=10))\n",
    "selector.fit(X_train_emb, y_train)\n",
    "X_emb = X_train_emb.iloc[ : ,selector.get_support()]\n",
    "X_emb.columns"
   ]
  },
  {
   "cell_type": "code",
   "execution_count": 135,
   "metadata": {},
   "outputs": [
    {
     "name": "stdout",
     "output_type": "stream",
     "text": [
      "Мои: \n",
      "['box', 'call', 'cash', 'chat', 'claim', 'code', 'contact', 'customer', 'free', 'guaranteed', 'mobile', 'new', 'nokia', 'per', 'ppm', 'prize', 'reply', 'ringtone', 'send', 'service', 'sms', 'stop', 'text', 'tone', 'tones', 'txt', 'ur', 'urgent', 'video', 'win']\n",
      "['account', 'call', 'cash', 'claim', 'code', 'contact', 'customer', 'free', 'guaranteed', 'ltgt', 'mins', 'mob', 'mobile', 'new', 'nokia', 'per', 'pobox', 'prize', 'reply', 'ringtone', 'service', 'shows', 'sms', 'stop', 'text', 'tone', 'txt', 'ur', 'urgent', 'win']\n",
      "['able', 'coming', 'day', 'done', 'early', 'go', 'gonna', 'got', 'hi', 'holiday', 'join', 'might', 'much', 'name', 'run', 'saw', 'says', 'sorry', 'st', 'sure', 'theres', 'though', 'time', 'todays', 'tomorrow', 'wanna', 'whats', 'yeah', 'yo']\n",
      "Библиотечные: \n",
      "['anything', 'back', 'cos', 'cost', 'could', 'fine', 'food', 'girl', 'home', 'ive', 'lar', 'let', 'liao', 'office', 'real', 'really', 'reply', 'run', 'school', 'sleep', 'sms', 'start', 'stuff', 'sweet', 'told', 'tonight', 'watching', 'well', 'xmas', 'yesterday']\n",
      "['box', 'call', 'cash', 'chat', 'claim', 'code', 'collect', 'contact', 'cost', 'free', 'gift', 'ill', 'important', 'landline', 'mobile', 'new', 'pmin', 'prize', 'reply', 'ringtone', 'send', 'service', 'sexy', 'stop', 'text', 'tone', 'tones', 'txt', 'urgent', 'win']\n",
      "['account', 'box', 'call', 'cash', 'chat', 'claim', 'code', 'collect', 'contact', 'cost', 'customer', 'find', 'free', 'ill', 'im', 'landline', 'later', 'ltgt', 'message', 'mins', 'mobile', 'new', 'nokia', 'ok', 'per', 'ppm', 'prize', 'receive', 'reply', 'ringtone', 'send', 'service', 'stop', 'text', 'tone', 'tones', 'txt', 'ur', 'urgent', 'win']\n"
     ]
    }
   ],
   "source": [
    "print('Мои: ')\n",
    "print(sorted(np.array(coef_emb.index[-30:])))\n",
    "print(sorted(np.array(coef_wrap)))\n",
    "print(sorted(np.array(coef_filt.index[-30:-1])[::-1]))\n",
    "print('Библиотечные: ')\n",
    "print(sorted(np.array(res_fish)))\n",
    "print(sorted(np.array(res_rec.columns)))\n",
    "print(sorted(np.array(X_emb.columns)))"
   ]
  },
  {
   "cell_type": "code",
   "execution_count": 136,
   "metadata": {},
   "outputs": [],
   "source": [
    "classifiers = {\n",
    "    'LogisticRegression': LogisticRegression(), \n",
    "    'Knn': KNeighborsClassifier(n_neighbors=100), \n",
    "    'RandomForestClassifier': RandomForestClassifier()\n",
    "}\n",
    "\n",
    "X_train_in_emb = pd.DataFrame(X_train, columns = np.array(coef_emb.index[-30:]))\n",
    "X_train_wrap = pd.DataFrame(X_train, columns = np.array(coef_wrap))\n",
    "X_train_filt = pd.DataFrame(X_train, columns = np.array(coef_filt.index[-30:-1])[::-1])\n",
    "X_train_fish = pd.DataFrame(X_train, columns = np.array(res_fish))\n",
    "X_train_rec = pd.DataFrame(X_train, columns = np.array(res_rec.columns))\n",
    "X_train_X_emb = pd.DataFrame(X_train, columns = np.array(X_emb.columns))\n",
    "\n",
    "X_test_in_emb = pd.DataFrame(X_test, columns = np.array(coef_emb.index[-30:]))\n",
    "X_test_wrap = pd.DataFrame(X_test, columns = np.array(coef_wrap))\n",
    "X_test_filt = pd.DataFrame(X_test, columns = np.array(coef_filt.index[-30:-1])[::-1])\n",
    "X_test_fish = pd.DataFrame(X_test, columns = np.array(res_fish))\n",
    "X_test_rec = pd.DataFrame(X_test, columns = np.array(res_rec.columns))\n",
    "X_test_X_emb = pd.DataFrame(X_test, columns = np.array(X_emb.columns))"
   ]
  },
  {
   "cell_type": "code",
   "execution_count": 137,
   "metadata": {},
   "outputs": [],
   "source": [
    "def print_res(c_name, classifier):\n",
    "    print(c_name)\n",
    "    \n",
    "    classifier.fit(X_train, y_train)\n",
    "    y_pred = classifier.predict(X_test) \n",
    "    print('До выбора признаков: ', accuracy_score(y_test, y_pred))\n",
    "    \n",
    "    print('После выбора признаков')\n",
    "    \n",
    "    classifier.fit(X_train_in_emb, y_train)\n",
    "    y_pred = classifier.predict(X_test_in_emb) \n",
    "    print('Random Forest: ', accuracy_score(y_test, y_pred))\n",
    "    \n",
    "    classifier.fit(X_train_wrap, y_train)\n",
    "    y_pred = classifier.predict(X_test_wrap) \n",
    "    print('Wrap (sequential): ', accuracy_score(y_test, y_pred))\n",
    "    \n",
    "    classifier.fit(X_train_filt, y_train)\n",
    "    y_pred = classifier.predict(X_test_filt) \n",
    "    print('Correlation: ', accuracy_score(y_test, y_pred))\n",
    "    \n",
    "    classifier.fit(X_train_fish, y_train)\n",
    "    y_pred = classifier.predict(X_test_fish) \n",
    "    print('Фишер: ', accuracy_score(y_test, y_pred))\n",
    "    \n",
    "    classifier.fit(X_train_rec, y_train)\n",
    "    y_pred = classifier.predict(X_test_rec) \n",
    "    print('Рекурсивное исключение: ', accuracy_score(y_test, y_pred))\n",
    "    \n",
    "    classifier.fit(X_train_X_emb, y_train)\n",
    "    y_pred = classifier.predict(X_test_X_emb) \n",
    "    print('Регуляризация: ', accuracy_score(y_test, y_pred))\n",
    "    \n",
    "    print()\n",
    "    "
   ]
  },
  {
   "cell_type": "code",
   "execution_count": 140,
   "metadata": {},
   "outputs": [
    {
     "name": "stdout",
     "output_type": "stream",
     "text": [
      "LogisticRegression\n",
      "До выбора признаков:  0.9734386216798278\n",
      "После выбора признаков\n",
      "Random Forest:  0.9490308686288585\n",
      "Wrap (sequential):  0.9483129935391242\n",
      "Correlation:  0.8664752333094041\n",
      "Фишер:  0.867910983488873\n",
      "Рекурсивное исключение:  0.9454414931801867\n",
      "Регуляризация:  0.955491744436468\n",
      "\n",
      "Knn\n",
      "До выбора признаков:  0.8671931083991385\n",
      "После выбора признаков\n",
      "Random Forest:  0.8837042354630295\n",
      "Wrap (sequential):  0.8901651112706389\n",
      "Correlation:  0.8671931083991385\n",
      "Фишер:  0.87724335965542\n",
      "Рекурсивное исключение:  0.8937544867193108\n",
      "Регуляризация:  0.8786791098348887\n",
      "\n",
      "RandomForestClassifier\n",
      "До выбора признаков:  0.9791816223977028\n",
      "После выбора признаков\n",
      "Random Forest:  0.9641062455132807\n",
      "Wrap (sequential):  0.9619526202440776\n",
      "Correlation:  0.8793969849246231\n",
      "Фишер:  0.8793969849246231\n",
      "Рекурсивное исключение:  0.9691313711414213\n",
      "Регуляризация:  0.9676956209619526\n",
      "\n"
     ]
    }
   ],
   "source": [
    "for cn, cl in classifiers.items():\n",
    "    print_res(cn, cl)"
   ]
  },
  {
   "cell_type": "code",
   "execution_count": null,
   "metadata": {},
   "outputs": [],
   "source": []
  }
 ],
 "metadata": {
  "kernelspec": {
   "display_name": "Python 3 (ipykernel)",
   "language": "python",
   "name": "python3"
  },
  "language_info": {
   "codemirror_mode": {
    "name": "ipython",
    "version": 3
   },
   "file_extension": ".py",
   "mimetype": "text/x-python",
   "name": "python",
   "nbconvert_exporter": "python",
   "pygments_lexer": "ipython3",
   "version": "3.10.7"
  }
 },
 "nbformat": 4,
 "nbformat_minor": 1
}
